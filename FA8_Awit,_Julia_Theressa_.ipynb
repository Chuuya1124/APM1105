{
  "nbformat": 4,
  "nbformat_minor": 0,
  "metadata": {
    "colab": {
      "provenance": [],
      "authorship_tag": "ABX9TyM5pG4Mee6VQUQyB90lFEpb",
      "include_colab_link": true
    },
    "kernelspec": {
      "name": "python3",
      "display_name": "Python 3"
    },
    "language_info": {
      "name": "python"
    }
  },
  "cells": [
    {
      "cell_type": "markdown",
      "metadata": {
        "id": "view-in-github",
        "colab_type": "text"
      },
      "source": [
        "<a href=\"https://colab.research.google.com/github/Chuuya1124/APM1105/blob/main/FA8_Awit%2C_Julia_Theressa_.ipynb\" target=\"_parent\"><img src=\"https://colab.research.google.com/assets/colab-badge.svg\" alt=\"Open In Colab\"/></a>"
      ]
    },
    {
      "cell_type": "markdown",
      "source": [
        "1. Create an exponent calculator using both iterations and recursion, with rendering time.\n",
        "\n",
        "Question:\n",
        "\n",
        "Which of the two functions performs faster? And why is it performing faster?"
      ],
      "metadata": {
        "id": "VPpeXK4Liu6l"
      }
    },
    {
      "cell_type": "code",
      "source": [
        "import time\n",
        "\n",
        "def iterative_exponent(base, exponent):\n",
        "    result = 1\n",
        "    for _ in range(exponent):\n",
        "        result *= base\n",
        "    return result\n",
        "\n",
        "def recursive_exponent(base, exponent):\n",
        "    if exponent == 0:\n",
        "        return 1\n",
        "    return base * recursive_exponent(base, exponent - 1)\n",
        "\n",
        "def main():\n",
        "    base = int(input(\"Enter the base: \"))\n",
        "    exponent = int(input(\"Enter the exponent: \"))\n",
        "\n",
        "    # Iterative (exponent)\n",
        "    start_time_iteration = time.time()\n",
        "    result_iteration = iterative_exponent(base, exponent)\n",
        "    end_time_iteration = time.time()\n",
        "    render_time_iteration = end_time_iteration - start_time_iteration\n",
        "\n",
        "    # Recursive (exponent)\n",
        "    start_time_recursive = time.time()\n",
        "    result_recursive = recursive_exponent(base, exponent)\n",
        "    end_time_recursive = time.time()\n",
        "    render_time_recursive = end_time_recursive - start_time_recursive\n",
        "\n",
        "    print(\"Solution:\")\n",
        "    print(f\"Iterative Solution: {result_iteration}\")\n",
        "    print(f\"Recursive Solution: {result_recursive}\")\n",
        "\n",
        "    print(\"\\nRendering Time:\")\n",
        "    print(f\"Iterative function: {render_time_iteration} seconds\")\n",
        "    print(f\"Recursive function: {render_time_recursive} seconds\")\n",
        "\n",
        "    if render_time_iteration < render_time_recursive:\n",
        "        print(\"\\nThe iterative function performs faster.\")\n",
        "    elif render_time_iteration > render_time_recursive:\n",
        "        print(\"\\nThe recursive function performs faster.\")\n",
        "    else:\n",
        "        print(\"\\nBoth functions perform at the same speed.\")\n",
        "\n",
        "if __name__ == \"__main__\":\n",
        "    main()\n"
      ],
      "metadata": {
        "colab": {
          "base_uri": "https://localhost:8080/"
        },
        "id": "BgSsQcJZkVqn",
        "outputId": "775d3d46-3fab-4f97-fff4-c745fa9ca5a0"
      },
      "execution_count": 7,
      "outputs": [
        {
          "output_type": "stream",
          "name": "stdout",
          "text": [
            "Enter the base: 23\n",
            "Enter the exponent: 43\n",
            "Solution:\n",
            "Iterative Solution: 35834136918934220777541995677272642015423987712183913488967\n",
            "Recursive Solution: 35834136918934220777541995677272642015423987712183913488967\n",
            "\n",
            "Rendering Time:\n",
            "Iterative function: 1.1682510375976562e-05 seconds\n",
            "Recursive function: 2.765655517578125e-05 seconds\n",
            "\n",
            "The iterative function performs faster.\n"
          ]
        }
      ]
    },
    {
      "cell_type": "markdown",
      "source": [
        "2. Iteratively and recursively calculate the sum of the first n powers of 2, along with the rendering time of each function using the time module.\n",
        "\n",
        "Question:\n",
        "\n",
        "Which of the two functions performs faster? And why is it performing faster?"
      ],
      "metadata": {
        "id": "YzmPssEbifzG"
      }
    },
    {
      "cell_type": "code",
      "source": [
        "import time\n",
        "\n",
        "def iterative_sum_powers_of_2(n):\n",
        "    result = 0\n",
        "    for i in range(n):\n",
        "        result += 2 ** i\n",
        "    return result\n",
        "\n",
        "def recursive_sum_powers_of_2(n):\n",
        "    if n == 0:\n",
        "        return 0\n",
        "    return (2 ** (n - 1)) + recursive_sum_powers_of_2(n - 1)\n",
        "\n",
        "def main():\n",
        "    n = int(input(\"Enter the value of n: \"))\n",
        "\n",
        "    # Iterative (sum)\n",
        "    start_time_iteration = time.time()\n",
        "    result_iteration = iterative_sum_powers_of_2(n)\n",
        "    end_time_iteration = time.time()\n",
        "    render_time_iteration = end_time_iteration - start_time_iteration\n",
        "\n",
        "    # Recursive (sum)\n",
        "    start_time_recursive = time.time()\n",
        "    result_recursive = recursive_sum_powers_of_2(n)\n",
        "    end_time_recursive = time.time()\n",
        "    render_time_recursive = end_time_recursive - start_time_recursive\n",
        "\n",
        "    print(\"Solution:\")\n",
        "    print(f\"Iterative Solution: {result_iteration}\")\n",
        "    print(f\"Recursive Solution: {result_recursive}\")\n",
        "\n",
        "    print(\"\\nRendering Time:\")\n",
        "    print(f\"Iterative function: {render_time_iteration} seconds\")\n",
        "    print(f\"Recursive function: {render_time_recursive} seconds\")\n",
        "\n",
        "    if render_time_iteration < render_time_recursive:\n",
        "        print(\"\\nThe iterative function performs faster.\")\n",
        "    elif render_time_iteration > render_time_recursive:\n",
        "        print(\"\\nThe recursive function performs faster.\")\n",
        "    else:\n",
        "        print(\"\\nBoth functions perform at the same speed.\")\n",
        "\n",
        "if __name__ == \"__main__\":\n",
        "    main()\n"
      ],
      "metadata": {
        "colab": {
          "base_uri": "https://localhost:8080/"
        },
        "id": "7tf-PkqDkcH_",
        "outputId": "18630432-8989-4e15-fae1-a91d28cd534c"
      },
      "execution_count": 8,
      "outputs": [
        {
          "output_type": "stream",
          "name": "stdout",
          "text": [
            "Enter the value of n: 45\n",
            "Solution:\n",
            "Iterative Solution: 35184372088831\n",
            "Recursive Solution: 35184372088831\n",
            "\n",
            "Rendering Time:\n",
            "Iterative function: 2.3126602172851562e-05 seconds\n",
            "Recursive function: 3.218650817871094e-05 seconds\n",
            "\n",
            "The iterative function performs faster.\n"
          ]
        }
      ]
    }
  ]
}