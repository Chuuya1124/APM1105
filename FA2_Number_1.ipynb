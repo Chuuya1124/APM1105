{
  "nbformat": 4,
  "nbformat_minor": 0,
  "metadata": {
    "colab": {
      "provenance": [],
      "authorship_tag": "ABX9TyMWmA6shel857mtl8wcNW91",
      "include_colab_link": true
    },
    "kernelspec": {
      "name": "python3",
      "display_name": "Python 3"
    },
    "language_info": {
      "name": "python"
    }
  },
  "cells": [
    {
      "cell_type": "markdown",
      "metadata": {
        "id": "view-in-github",
        "colab_type": "text"
      },
      "source": [
        "<a href=\"https://colab.research.google.com/github/Chuuya1124/APM1105/blob/main/FA2_Number_1.ipynb\" target=\"_parent\"><img src=\"https://colab.research.google.com/assets/colab-badge.svg\" alt=\"Open In Colab\"/></a>"
      ]
    },
    {
      "cell_type": "code",
      "execution_count": 11,
      "metadata": {
        "colab": {
          "base_uri": "https://localhost:8080/"
        },
        "id": "cZD_MtqFAbIm",
        "outputId": "64834849-959d-444b-ef25-fbb32aee5f2e"
      },
      "outputs": [
        {
          "output_type": "stream",
          "name": "stdout",
          "text": [
            "[24, 11, 14, 4, 8, -20]\n",
            "product: \n",
            "-2365440\n"
          ]
        }
      ],
      "source": [
        "#Write a Python function to multiply all the numbers in a list\n",
        "  #sample list: (24, 11, 14, 4, 8, -20)\n",
        "\n",
        "def multiply_list(list):\n",
        "\n",
        "  #Multiply the given numbers\n",
        "  product = 1\n",
        "  for i in list:\n",
        "   product = product * i\n",
        "  return product\n",
        "\n",
        "sample_list =[24, 11, 14, 4, 8, -20]\n",
        "print(sample_list)\n",
        "print(\"product: \")\n",
        "print(multiply_list(sample_list))\n",
        "\n"
      ]
    }
  ]
}