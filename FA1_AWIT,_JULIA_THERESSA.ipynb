{
  "nbformat": 4,
  "nbformat_minor": 0,
  "metadata": {
    "colab": {
      "provenance": [],
      "authorship_tag": "ABX9TyOyOHf8flKgioDsayxhFV+2",
      "include_colab_link": true
    },
    "kernelspec": {
      "name": "python3",
      "display_name": "Python 3"
    },
    "language_info": {
      "name": "python"
    }
  },
  "cells": [
    {
      "cell_type": "markdown",
      "metadata": {
        "id": "view-in-github",
        "colab_type": "text"
      },
      "source": [
        "<a href=\"https://colab.research.google.com/github/Chuuya1124/APM1105/blob/main/FA1_AWIT%2C_JULIA_THERESSA.ipynb\" target=\"_parent\"><img src=\"https://colab.research.google.com/assets/colab-badge.svg\" alt=\"Open In Colab\"/></a>"
      ]
    },
    {
      "cell_type": "code",
      "execution_count": 3,
      "metadata": {
        "colab": {
          "base_uri": "https://localhost:8080/"
        },
        "id": "QPklMshi9W5u",
        "outputId": "5be338c3-70a9-45d9-e05d-4a524ded1297"
      },
      "outputs": [
        {
          "output_type": "stream",
          "name": "stdout",
          "text": [
            "Exercise 2: There are 6.21 miles in 10 kilometers.\n",
            "Exercise 3:\n",
            "   Average pace: 6 minutes and 42 seconds per mile.\n",
            "   Average speed: 8.73 miles per hour.\n"
          ]
        }
      ],
      "source": [
        "# Exercise 1-2 items 2 and 3\n",
        "\n",
        "# Conversion factor from kilometers to miles\n",
        "km_to_miles = 1.61\n",
        "\n",
        "# Exercise 2: How many miles are there in 10 kilometers?\n",
        "distance_km = 10\n",
        "distance_miles = distance_km / km_to_miles\n",
        "print(f\"Exercise 2: There are {distance_miles:.2f} miles in 10 kilometers.\")\n",
        "\n",
        "# Exercise 3: If you run a 10-kilometer race in 42 minutes 42 seconds\n",
        "total_minutes = 42\n",
        "total_seconds = 42\n",
        "\n",
        "# Calculate the distance in miles\n",
        "distance_miles = distance_km / km_to_miles\n",
        "\n",
        "# Calculate the total time in hours\n",
        "total_hours = total_minutes / 60 + total_seconds / 3600\n",
        "\n",
        "# Calculate the average pace in minutes and seconds per mile\n",
        "average_pace_minutes = total_minutes / distance_miles\n",
        "average_pace_seconds = (total_hours * 60) % 60\n",
        "\n",
        "# Calculate the average speed in miles per hour\n",
        "average_speed_mph = distance_miles / total_hours\n",
        "\n",
        "# Print the results\n",
        "print(f\"Exercise 3:\")\n",
        "print(f\"   Average pace: {int(average_pace_minutes)} minutes and {int(average_pace_seconds)} seconds per mile.\")\n",
        "print(f\"   Average speed: {average_speed_mph:.2f} miles per hour.\")\n"
      ]
    }
  ]
}