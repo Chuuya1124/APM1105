{
  "nbformat": 4,
  "nbformat_minor": 0,
  "metadata": {
    "colab": {
      "provenance": [],
      "authorship_tag": "ABX9TyOLmtgf+zv1qEb5Ok/Zj7jZ",
      "include_colab_link": true
    },
    "kernelspec": {
      "name": "python3",
      "display_name": "Python 3"
    },
    "language_info": {
      "name": "python"
    }
  },
  "cells": [
    {
      "cell_type": "markdown",
      "metadata": {
        "id": "view-in-github",
        "colab_type": "text"
      },
      "source": [
        "<a href=\"https://colab.research.google.com/github/Chuuya1124/APM1105/blob/main/FA9_Awit%2C_Julia_Theressa.ipynb\" target=\"_parent\"><img src=\"https://colab.research.google.com/assets/colab-badge.svg\" alt=\"Open In Colab\"/></a>"
      ]
    },
    {
      "cell_type": "code",
      "source": [
        "import pandas as pd\n",
        "\n",
        "# Read data\n",
        "url = \"https://raw.githubusercontent.com/Apress/data-analysis-and-visualization-using-python/master/Ch07/Salaries.csv\"\n",
        "data = pd.read_csv(url)\n",
        "\n",
        "# Filter data by professor type\n",
        "assoc_prof = data[data[\"rank\"] == \"AssocProf\"][\"salary\"]\n",
        "asst_prof = data[data[\"rank\"] == \"AsstProf\"][\"salary\"]\n",
        "prof = data[data[\"rank\"] == \"Prof\"][\"salary\"]\n",
        "\n",
        "# Compute descriptive statistics\n",
        "descriptive_stats = {\n",
        "    \"AssocProf\": assoc_prof.describe(),\n",
        "    \"AsstProf\": asst_prof.describe(),\n",
        "    \"Prof\": prof.describe()\n",
        "}\n",
        "\n",
        "# Compute percentiles\n",
        "percentiles = [10, 20, 30, 40, 50, 60, 70, 80, 90]\n",
        "percentile_values = {\n",
        "    \"AssocProf\": assoc_prof.quantile([p/100 for p in percentiles]),\n",
        "    \"AsstProf\": asst_prof.quantile([p/100 for p in percentiles]),\n",
        "    \"Prof\": prof.quantile([p/100 for p in percentiles])\n",
        "}\n",
        "\n",
        "# Combine descriptive statistics and percentiles\n",
        "combined_results = {}\n",
        "for key in descriptive_stats.keys():\n",
        "    combined_results[key] = pd.concat([descriptive_stats[key], percentile_values[key].rename({p/100: f\"{p}th percentile\" for p in percentiles})])\n",
        "\n",
        "# Print results\n",
        "for key, value in combined_results.items():\n",
        "    print(key)\n",
        "    print(value)\n",
        "    print()\n"
      ],
      "metadata": {
        "colab": {
          "base_uri": "https://localhost:8080/"
        },
        "id": "OilNX1-JUYD2",
        "outputId": "50c853c9-b2ca-4a14-997a-354ce9cbdb4c"
      },
      "execution_count": 6,
      "outputs": [
        {
          "output_type": "stream",
          "name": "stdout",
          "text": [
            "AssocProf\n",
            "count                  13.000000\n",
            "mean                91786.230769\n",
            "std                 18571.183714\n",
            "min                 62884.000000\n",
            "25%                 74830.000000\n",
            "50%                103613.000000\n",
            "75%                104542.000000\n",
            "max                119800.000000\n",
            "10th percentile     71512.000000\n",
            "20th percentile     73912.000000\n",
            "30th percentile     76432.000000\n",
            "40th percentile     80528.000000\n",
            "50th percentile    103613.000000\n",
            "60th percentile    103798.800000\n",
            "70th percentile    104213.200000\n",
            "80th percentile    106021.600000\n",
            "90th percentile    109121.600000\n",
            "Name: salary, dtype: float64\n",
            "\n",
            "AsstProf\n",
            "count                 19.000000\n",
            "mean               81362.789474\n",
            "std                 9381.245301\n",
            "min                63100.000000\n",
            "25%                74096.000000\n",
            "50%                78500.000000\n",
            "75%                91150.000000\n",
            "max                97032.000000\n",
            "10th percentile    72500.000000\n",
            "20th percentile    73300.000000\n",
            "30th percentile    74832.800000\n",
            "40th percentile    77100.000000\n",
            "50th percentile    78500.000000\n",
            "60th percentile    84045.000000\n",
            "70th percentile    89800.000000\n",
            "80th percentile    91580.000000\n",
            "90th percentile    92000.000000\n",
            "Name: salary, dtype: float64\n",
            "\n",
            "Prof\n",
            "count                  46.000000\n",
            "mean               123624.804348\n",
            "std                 24850.287853\n",
            "min                 57800.000000\n",
            "25%                105112.500000\n",
            "50%                123321.500000\n",
            "75%                143512.250000\n",
            "max                186960.000000\n",
            "10th percentile     93675.000000\n",
            "20th percentile    103275.000000\n",
            "30th percentile    108473.000000\n",
            "40th percentile    116450.000000\n",
            "50th percentile    123321.500000\n",
            "60th percentile    127512.000000\n",
            "70th percentile    135889.000000\n",
            "80th percentile    148750.000000\n",
            "90th percentile    154750.000000\n",
            "Name: salary, dtype: float64\n",
            "\n"
          ]
        }
      ]
    }
  ]
}