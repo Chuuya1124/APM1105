{
  "nbformat": 4,
  "nbformat_minor": 0,
  "metadata": {
    "colab": {
      "provenance": [],
      "authorship_tag": "ABX9TyP6LjFmg8Jw1rKSz2ZKnkdB",
      "include_colab_link": true
    },
    "kernelspec": {
      "name": "python3",
      "display_name": "Python 3"
    },
    "language_info": {
      "name": "python"
    }
  },
  "cells": [
    {
      "cell_type": "markdown",
      "metadata": {
        "id": "view-in-github",
        "colab_type": "text"
      },
      "source": [
        "<a href=\"https://colab.research.google.com/github/Chuuya1124/APM1105/blob/main/FA6.ipynb\" target=\"_parent\"><img src=\"https://colab.research.google.com/assets/colab-badge.svg\" alt=\"Open In Colab\"/></a>"
      ]
    },
    {
      "cell_type": "markdown",
      "source": [
        "Do the following:\n",
        "\n",
        "1. Write a function named ack that evaluates the Ackermann function. Use your function to evaluate ack(2,4). What happens for larger values of m and n?\n"
      ],
      "metadata": {
        "id": "xJ-oWSuYNr0p"
      }
    },
    {
      "cell_type": "code",
      "execution_count": 1,
      "metadata": {
        "colab": {
          "base_uri": "https://localhost:8080/"
        },
        "id": "qV7rkH0pNilj",
        "outputId": "2ba896c5-bbe4-4c8d-c54e-e1b8c78726bb"
      },
      "outputs": [
        {
          "output_type": "stream",
          "name": "stdout",
          "text": [
            "11\n"
          ]
        }
      ],
      "source": [
        "# Ackermann function\n",
        "def ack(m, n):\n",
        "    if m == 0:\n",
        "        return n + 1\n",
        "    elif n == 0:\n",
        "        return ack(m - 1, 1)\n",
        "    else:\n",
        "        return ack(m - 1, ack(m, n - 1))\n",
        "\n",
        "# Test the function with ack(2, 4)\n",
        "print(ack(2, 4))"
      ]
    },
    {
      "cell_type": "markdown",
      "source": [
        "*For larger values of m and n, the Ackermann function grows very quickly and can quickly exceed the maximum recursion depth of Python. This means that the function will fail to evaluate for very large values of m and n.*"
      ],
      "metadata": {
        "id": "qqFuiKXgPjAI"
      }
    },
    {
      "cell_type": "markdown",
      "source": [
        "2. A number, a is a power of b if it is divisible by b and a/b is a power of b. Write a function called is_power that takes parameters a and b and returns True if a is a power of b. Note: you will have to think about a base case. (Note: It should work with float.)"
      ],
      "metadata": {
        "id": "9eKoRyEwOGkW"
      }
    },
    {
      "cell_type": "code",
      "source": [
        "# Function to check if a is a power of b\n",
        "def is_power(a, b):\n",
        "    if a == b:\n",
        "        return True\n",
        "    elif b == 1 or a % b != 0:\n",
        "        return False\n",
        "    else:\n",
        "        return is_power(a/b, b)\n",
        "\n",
        "# Test the function with is_power(16, 2)\n",
        "print(is_power(16, 2))"
      ],
      "metadata": {
        "colab": {
          "base_uri": "https://localhost:8080/"
        },
        "id": "HRWLslLnOSM9",
        "outputId": "2e5c4abe-1977-47a0-f5f4-609a6c69a4ee"
      },
      "execution_count": 2,
      "outputs": [
        {
          "output_type": "stream",
          "name": "stdout",
          "text": [
            "True\n"
          ]
        }
      ]
    }
  ]
}