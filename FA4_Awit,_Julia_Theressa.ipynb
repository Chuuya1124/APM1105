{
  "nbformat": 4,
  "nbformat_minor": 0,
  "metadata": {
    "colab": {
      "provenance": [],
      "authorship_tag": "ABX9TyPXVY9lLkAKY53GcmZkqHQk",
      "include_colab_link": true
    },
    "kernelspec": {
      "name": "python3",
      "display_name": "Python 3"
    },
    "language_info": {
      "name": "python"
    }
  },
  "cells": [
    {
      "cell_type": "markdown",
      "metadata": {
        "id": "view-in-github",
        "colab_type": "text"
      },
      "source": [
        "<a href=\"https://colab.research.google.com/github/Chuuya1124/APM1105/blob/main/FA4_Awit%2C_Julia_Theressa.ipynb\" target=\"_parent\"><img src=\"https://colab.research.google.com/assets/colab-badge.svg\" alt=\"Open In Colab\"/></a>"
      ]
    },
    {
      "cell_type": "markdown",
      "source": [
        "1. Write a Python program to print the even numbers from a given list.\n",
        "\n",
        "List: [1, 2, 3, 4, 5, 6, 7, 8, 9, 10, 11, 13, 15, 17, 19, 24, 26, 28, 30, 32]"
      ],
      "metadata": {
        "id": "NXSw1dFD7oav"
      }
    },
    {
      "cell_type": "code",
      "execution_count": 1,
      "metadata": {
        "colab": {
          "base_uri": "https://localhost:8080/"
        },
        "id": "wUXhB0NX7SW-",
        "outputId": "7792b2cc-4ff4-4bf7-cfbd-ebc2c90bbe62"
      },
      "outputs": [
        {
          "output_type": "stream",
          "name": "stdout",
          "text": [
            "Even numbers from the given list: [2, 4, 6, 8, 10, 24, 26, 28, 30, 32]\n"
          ]
        }
      ],
      "source": [
        "# Given list\n",
        "num_list = [1, 2, 3, 4, 5, 6, 7, 8, 9, 10, 11, 13, 15, 17, 19, 24, 26, 28, 30, 32]\n",
        "\n",
        "# Print even numbers from the list\n",
        "even_nums = [num for num in num_list if num % 2 == 0]\n",
        "print(\"Even numbers from the given list:\", even_nums)"
      ]
    },
    {
      "cell_type": "markdown",
      "source": [
        "2. Generate a Python list of all the even numbers between 10 to 60."
      ],
      "metadata": {
        "id": "ZRh4RvMk7wJX"
      }
    },
    {
      "cell_type": "code",
      "source": [
        "# Generate a list of even numbers between 10 to 60\n",
        "even_nums_10_to_60 = [num for num in range(10, 61) if num % 2 == 0]\n",
        "print(\"Even numbers between 10 to 60:\", even_nums_10_to_60)"
      ],
      "metadata": {
        "colab": {
          "base_uri": "https://localhost:8080/"
        },
        "id": "53ow83A-754F",
        "outputId": "77d25637-07e4-4c7d-c8be-54478335962f"
      },
      "execution_count": 2,
      "outputs": [
        {
          "output_type": "stream",
          "name": "stdout",
          "text": [
            "Even numbers between 10 to 60: [10, 12, 14, 16, 18, 20, 22, 24, 26, 28, 30, 32, 34, 36, 38, 40, 42, 44, 46, 48, 50, 52, 54, 56, 58, 60]\n"
          ]
        }
      ]
    },
    {
      "cell_type": "markdown",
      "source": [
        "3. Write a program to create a function show_feu_professor() using the following conditions:\n",
        "\n",
        "It should accept the professor’s name and salary and display both.\n",
        "If the salary is missing in the function call then assign default value 70000 to salary.\n",
        "Expected output: Display of at least 5 FEU professors with their salaries."
      ],
      "metadata": {
        "id": "e_8u8SfO8Ikq"
      }
    },
    {
      "cell_type": "code",
      "source": [
        "# Function to display FEU professor's name and salary\n",
        "def show_feu_professor(name, salary=70000):\n",
        "    print(f\"Professor: {name} salary: {salary} pesos\")\n",
        "\n",
        "# Example usage\n",
        "show_feu_professor(\"Mycah Amelita Chavez\", 25000)\n",
        "show_feu_professor(\"Maria Lourdes Mariano\", 20000)\n",
        "show_feu_professor(\"Rolly Gacelo\", 18000)\n",
        "show_feu_professor(\"Jeffrey Alvarina\", 27000)\n",
        "show_feu_professor(\"Frederick Gella\", 24000)"
      ],
      "metadata": {
        "colab": {
          "base_uri": "https://localhost:8080/"
        },
        "id": "Xne-YgL18frS",
        "outputId": "55f63f20-0c05-4087-e2c7-2a4f4dc64ea9"
      },
      "execution_count": 3,
      "outputs": [
        {
          "output_type": "stream",
          "name": "stdout",
          "text": [
            "Professor: Mycah Amelita Chavez salary: 25000 pesos\n",
            "Professor: Maria Lourdes Mariano salary: 20000 pesos\n",
            "Professor: Rolly Gacelo salary: 18000 pesos\n",
            "Professor: Jeffrey Alvarina salary: 27000 pesos\n",
            "Professor: Frederick Gella salary: 24000 pesos\n"
          ]
        }
      ]
    }
  ]
}