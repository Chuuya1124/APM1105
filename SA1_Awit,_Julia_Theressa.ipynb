{
  "nbformat": 4,
  "nbformat_minor": 0,
  "metadata": {
    "colab": {
      "provenance": [],
      "authorship_tag": "ABX9TyMRfcrFCoIwmKgKCQftXl0Y",
      "include_colab_link": true
    },
    "kernelspec": {
      "name": "python3",
      "display_name": "Python 3"
    },
    "language_info": {
      "name": "python"
    }
  },
  "cells": [
    {
      "cell_type": "markdown",
      "metadata": {
        "id": "view-in-github",
        "colab_type": "text"
      },
      "source": [
        "<a href=\"https://colab.research.google.com/github/Chuuya1124/APM1105/blob/main/SA1_Awit%2C_Julia_Theressa.ipynb\" target=\"_parent\"><img src=\"https://colab.research.google.com/assets/colab-badge.svg\" alt=\"Open In Colab\"/></a>"
      ]
    },
    {
      "cell_type": "markdown",
      "source": [
        "2. Write a program on the Fibonacci sequence using both iterations and recursion, and including rendering time to compare the performance of both approaches.\n",
        "\n"
      ],
      "metadata": {
        "id": "ksIKnIJV1VCw"
      }
    },
    {
      "cell_type": "code",
      "source": [
        "import time\n",
        "\n",
        "# Iterative approach\n",
        "def fibonacci_iterative(n):\n",
        "    fib_sequence = [0, 1]\n",
        "    for i in range(2, n + 1):\n",
        "        fib_sequence.append(fib_sequence[-1] + fib_sequence[-2])\n",
        "    return fib_sequence[n]\n",
        "\n",
        "# Recursive approach\n",
        "def fibonacci_recursive(n):\n",
        "    if n <= 1:\n",
        "        return n\n",
        "    else:\n",
        "        return fibonacci_recursive(n - 1) + fibonacci_recursive(n - 2)\n",
        "\n",
        "# Measure time for iterative approach\n",
        "start_time = time.time()\n",
        "iterative_result = fibonacci_iterative(30)  # Change the argument as needed\n",
        "iterative_time = time.time() - start_time\n",
        "\n",
        "# Measure time for recursive approach\n",
        "start_time = time.time()\n",
        "recursive_result = fibonacci_recursive(30)  # Change the argument as needed\n",
        "recursive_time = time.time() - start_time\n",
        "\n",
        "# Display results\n",
        "print(\"Iterative Fibonacci (30th term):\", iterative_result)\n",
        "print(\"Time taken for iterative approach:\", iterative_time, \"seconds\")\n",
        "\n",
        "print(\"\\nRecursive Fibonacci (30th term):\", recursive_result)\n",
        "print(\"Time taken for recursive approach:\", recursive_time, \"seconds\")\n"
      ],
      "metadata": {
        "colab": {
          "base_uri": "https://localhost:8080/"
        },
        "id": "xqrDRPyt1TX5",
        "outputId": "c0374634-dac7-4710-bfa9-0ba47c916760"
      },
      "execution_count": 2,
      "outputs": [
        {
          "output_type": "stream",
          "name": "stdout",
          "text": [
            "Iterative Fibonacci (30th term): 832040\n",
            "Time taken for iterative approach: 6.0558319091796875e-05 seconds\n",
            "\n",
            "Recursive Fibonacci (30th term): 832040\n",
            "Time taken for recursive approach: 0.35590171813964844 seconds\n"
          ]
        }
      ]
    },
    {
      "cell_type": "markdown",
      "source": [
        "3. Write a program to find the solution to the equation using iterative formula with initial value."
      ],
      "metadata": {
        "id": "7PBGIXF71Ssf"
      }
    },
    {
      "cell_type": "code",
      "execution_count": 1,
      "metadata": {
        "colab": {
          "base_uri": "https://localhost:8080/"
        },
        "id": "u6ClvB8I0UUw",
        "outputId": "04db71c5-c782-4cdf-e443-1847b77852ab"
      },
      "outputs": [
        {
          "output_type": "stream",
          "name": "stdout",
          "text": [
            "Solution: 2.095\n"
          ]
        }
      ],
      "source": [
        "def equation(x):\n",
        "    return x**3 - 2*x - 5  # Define your equation here\n",
        "\n",
        "def solve_equation(initial_value, precision=0.001, max_iterations=1000):\n",
        "    x = initial_value\n",
        "    for i in range(max_iterations):\n",
        "        x_next = x - equation(x) / (3*x**2 - 2)  # Iterative formula\n",
        "        if abs(x_next - x) < precision:  # Check convergence\n",
        "            return round(x_next, 3)\n",
        "        x = x_next\n",
        "    return \"No convergence within the maximum number of iterations\"\n",
        "\n",
        "initial_value = 2.0  # Initial value\n",
        "solution = solve_equation(initial_value)\n",
        "print(\"Solution:\", solution)\n"
      ]
    }
  ]
}