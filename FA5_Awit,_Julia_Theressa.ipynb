{
  "nbformat": 4,
  "nbformat_minor": 0,
  "metadata": {
    "colab": {
      "provenance": [],
      "authorship_tag": "ABX9TyPzoil29d0UtlWu/X8J7Pp2",
      "include_colab_link": true
    },
    "kernelspec": {
      "name": "python3",
      "display_name": "Python 3"
    },
    "language_info": {
      "name": "python"
    }
  },
  "cells": [
    {
      "cell_type": "markdown",
      "metadata": {
        "id": "view-in-github",
        "colab_type": "text"
      },
      "source": [
        "<a href=\"https://colab.research.google.com/github/Chuuya1124/APM1105/blob/main/FA5_Awit%2C_Julia_Theressa.ipynb\" target=\"_parent\"><img src=\"https://colab.research.google.com/assets/colab-badge.svg\" alt=\"Open In Colab\"/></a>"
      ]
    },
    {
      "cell_type": "code",
      "source": [
        "!pip install ColabTurtle\n",
        "\n",
        "from ColabTurtle.Turtle import *\n",
        "\n",
        "import random\n",
        "import math\n",
        "\n",
        "# Set up the screen\n",
        "initializeTurtle()\n",
        "speed(10)  # Set the fastest drawing speed\n",
        "color(\"blue\")\n",
        "\n",
        "# Function to draw a circle of radius r\n",
        "def draw_circle(radius):\n",
        "    penup()\n",
        "    setpos(0, radius)  # Move to the bottom center of the circle\n",
        "    pendown()\n",
        "    for _ in range(72):\n",
        "        forward(math.pi * radius / 36)\n",
        "        left(5)\n",
        "\n",
        "# Function to check if turtle is outside the circle\n",
        "def is_outside_circle(turtle_pos, radius):\n",
        "    distance = math.sqrt(turtle_pos[0]**2 + turtle_pos[1]**2)\n",
        "    return distance > radius\n",
        "\n",
        "# Function to make turtle bounce off the circle boundary\n",
        "def bounce_off_circle(turtle_pos, radius):\n",
        "    distance = math.sqrt(turtle_pos[0]**2 + turtle_pos[1]**2)\n",
        "    if distance > radius:\n",
        "        angle = math.atan2(turtle_pos[1], turtle_pos[0])\n",
        "        new_angle = math.pi - angle\n",
        "        setheading(math.degrees(new_angle))\n",
        "\n",
        "# Draw circle fence\n",
        "draw_circle(200)\n",
        "\n",
        "# Move turtle to the center\n",
        "penup()\n",
        "home()  # Move turtle to the center\n",
        "\n",
        "# Main loop\n",
        "while True:\n",
        "    forward(1)\n",
        "\n",
        "    # Check if turtle is outside circle\n",
        "    if is_outside_circle((xcor(), ycor()), 200):\n",
        "        bounce_off_circle((xcor(), ycor()), 200)\n",
        "\n",
        "done()\n"
      ],
      "metadata": {
        "colab": {
          "base_uri": "https://localhost:8080/",
          "height": 539
        },
        "id": "j1mA6IDEjRQq",
        "outputId": "e09fcfcb-ac1f-4216-d6cd-bbe621628e09"
      },
      "execution_count": null,
      "outputs": [
        {
          "output_type": "stream",
          "name": "stdout",
          "text": [
            "Requirement already satisfied: ColabTurtle in /usr/local/lib/python3.10/dist-packages (2.1.0)\n"
          ]
        },
        {
          "output_type": "display_data",
          "data": {
            "text/plain": [
              "<IPython.core.display.HTML object>"
            ],
            "text/html": [
              "\n",
              "      <svg width=\"800\" height=\"500\">\n",
              "        <rect width=\"100%\" height=\"100%\" fill=\"black\"/>\n",
              "        <line x1=\"0\" y1=\"200\" x2=\"-0.0\" y2=\"182.547\" stroke-linecap=\"round\" style=\"stroke:blue;stroke-width:4\"/><line x1=\"-0.0\" y1=\"182.547\" x2=\"-1.521\" y2=\"165.16\" stroke-linecap=\"round\" style=\"stroke:blue;stroke-width:4\"/><line x1=\"-1.521\" y1=\"165.16\" x2=\"-4.552\" y2=\"147.972\" stroke-linecap=\"round\" style=\"stroke:blue;stroke-width:4\"/><line x1=\"-4.552\" y1=\"147.972\" x2=\"-9.069\" y2=\"131.113\" stroke-linecap=\"round\" style=\"stroke:blue;stroke-width:4\"/><line x1=\"-9.069\" y1=\"131.113\" x2=\"-15.038\" y2=\"114.712\" stroke-linecap=\"round\" style=\"stroke:blue;stroke-width:4\"/><line x1=\"-15.038\" y1=\"114.712\" x2=\"-22.414\" y2=\"98.894\" stroke-linecap=\"round\" style=\"stroke:blue;stroke-width:4\"/><line x1=\"-22.414\" y1=\"98.894\" x2=\"-31.141\" y2=\"83.779\" stroke-linecap=\"round\" style=\"stroke:blue;stroke-width:4\"/><line x1=\"-31.141\" y1=\"83.779\" x2=\"-41.152\" y2=\"69.482\" stroke-linecap=\"round\" style=\"stroke:blue;stroke-width:4\"/><line x1=\"-41.152\" y1=\"69.482\" x2=\"-52.371\" y2=\"56.112\" stroke-linecap=\"round\" style=\"stroke:blue;stroke-width:4\"/><line x1=\"-52.371\" y1=\"56.112\" x2=\"-64.712\" y2=\"43.771\" stroke-linecap=\"round\" style=\"stroke:blue;stroke-width:4\"/><line x1=\"-64.712\" y1=\"43.771\" x2=\"-78.082\" y2=\"32.552\" stroke-linecap=\"round\" style=\"stroke:blue;stroke-width:4\"/><line x1=\"-78.082\" y1=\"32.552\" x2=\"-92.379\" y2=\"22.541\" stroke-linecap=\"round\" style=\"stroke:blue;stroke-width:4\"/><line x1=\"-92.379\" y1=\"22.541\" x2=\"-107.494\" y2=\"13.814\" stroke-linecap=\"round\" style=\"stroke:blue;stroke-width:4\"/><line x1=\"-107.494\" y1=\"13.814\" x2=\"-123.312\" y2=\"6.438\" stroke-linecap=\"round\" style=\"stroke:blue;stroke-width:4\"/><line x1=\"-123.312\" y1=\"6.438\" x2=\"-139.713\" y2=\"0.469\" stroke-linecap=\"round\" style=\"stroke:blue;stroke-width:4\"/><line x1=\"-139.713\" y1=\"0.469\" x2=\"-156.572\" y2=\"-4.048\" stroke-linecap=\"round\" style=\"stroke:blue;stroke-width:4\"/><line x1=\"-156.572\" y1=\"-4.048\" x2=\"-173.76\" y2=\"-7.079\" stroke-linecap=\"round\" style=\"stroke:blue;stroke-width:4\"/><line x1=\"-173.76\" y1=\"-7.079\" x2=\"-191.147\" y2=\"-8.6\" stroke-linecap=\"round\" style=\"stroke:blue;stroke-width:4\"/><line x1=\"-191.147\" y1=\"-8.6\" x2=\"-208.6\" y2=\"-8.6\" stroke-linecap=\"round\" style=\"stroke:blue;stroke-width:4\"/><line x1=\"-208.6\" y1=\"-8.6\" x2=\"-225.987\" y2=\"-7.079\" stroke-linecap=\"round\" style=\"stroke:blue;stroke-width:4\"/><line x1=\"-225.987\" y1=\"-7.079\" x2=\"-243.175\" y2=\"-4.048\" stroke-linecap=\"round\" style=\"stroke:blue;stroke-width:4\"/><line x1=\"-243.175\" y1=\"-4.048\" x2=\"-260.034\" y2=\"0.469\" stroke-linecap=\"round\" style=\"stroke:blue;stroke-width:4\"/><line x1=\"-260.034\" y1=\"0.469\" x2=\"-276.435\" y2=\"6.438\" stroke-linecap=\"round\" style=\"stroke:blue;stroke-width:4\"/><line x1=\"-276.435\" y1=\"6.438\" x2=\"-292.253\" y2=\"13.814\" stroke-linecap=\"round\" style=\"stroke:blue;stroke-width:4\"/><line x1=\"-292.253\" y1=\"13.814\" x2=\"-307.368\" y2=\"22.541\" stroke-linecap=\"round\" style=\"stroke:blue;stroke-width:4\"/><line x1=\"-307.368\" y1=\"22.541\" x2=\"-321.665\" y2=\"32.552\" stroke-linecap=\"round\" style=\"stroke:blue;stroke-width:4\"/><line x1=\"-321.665\" y1=\"32.552\" x2=\"-335.035\" y2=\"43.771\" stroke-linecap=\"round\" style=\"stroke:blue;stroke-width:4\"/><line x1=\"-335.035\" y1=\"43.771\" x2=\"-347.376\" y2=\"56.112\" stroke-linecap=\"round\" style=\"stroke:blue;stroke-width:4\"/><line x1=\"-347.376\" y1=\"56.112\" x2=\"-358.595\" y2=\"69.482\" stroke-linecap=\"round\" style=\"stroke:blue;stroke-width:4\"/><line x1=\"-358.595\" y1=\"69.482\" x2=\"-368.606\" y2=\"83.779\" stroke-linecap=\"round\" style=\"stroke:blue;stroke-width:4\"/><line x1=\"-368.606\" y1=\"83.779\" x2=\"-377.333\" y2=\"98.894\" stroke-linecap=\"round\" style=\"stroke:blue;stroke-width:4\"/><line x1=\"-377.333\" y1=\"98.894\" x2=\"-384.709\" y2=\"114.712\" stroke-linecap=\"round\" style=\"stroke:blue;stroke-width:4\"/><line x1=\"-384.709\" y1=\"114.712\" x2=\"-390.678\" y2=\"131.113\" stroke-linecap=\"round\" style=\"stroke:blue;stroke-width:4\"/><line x1=\"-390.678\" y1=\"131.113\" x2=\"-395.195\" y2=\"147.972\" stroke-linecap=\"round\" style=\"stroke:blue;stroke-width:4\"/><line x1=\"-395.195\" y1=\"147.972\" x2=\"-398.226\" y2=\"165.16\" stroke-linecap=\"round\" style=\"stroke:blue;stroke-width:4\"/><line x1=\"-398.226\" y1=\"165.16\" x2=\"-399.747\" y2=\"182.547\" stroke-linecap=\"round\" style=\"stroke:blue;stroke-width:4\"/><line x1=\"-399.747\" y1=\"182.547\" x2=\"-399.747\" y2=\"200.0\" stroke-linecap=\"round\" style=\"stroke:blue;stroke-width:4\"/><line x1=\"-399.747\" y1=\"200.0\" x2=\"-398.226\" y2=\"217.387\" stroke-linecap=\"round\" style=\"stroke:blue;stroke-width:4\"/><line x1=\"-398.226\" y1=\"217.387\" x2=\"-395.195\" y2=\"234.575\" stroke-linecap=\"round\" style=\"stroke:blue;stroke-width:4\"/><line x1=\"-395.195\" y1=\"234.575\" x2=\"-390.678\" y2=\"251.434\" stroke-linecap=\"round\" style=\"stroke:blue;stroke-width:4\"/><line x1=\"-390.678\" y1=\"251.434\" x2=\"-384.709\" y2=\"267.835\" stroke-linecap=\"round\" style=\"stroke:blue;stroke-width:4\"/><line x1=\"-384.709\" y1=\"267.835\" x2=\"-377.333\" y2=\"283.653\" stroke-linecap=\"round\" style=\"stroke:blue;stroke-width:4\"/><line x1=\"-377.333\" y1=\"283.653\" x2=\"-368.606\" y2=\"298.768\" stroke-linecap=\"round\" style=\"stroke:blue;stroke-width:4\"/><line x1=\"-368.606\" y1=\"298.768\" x2=\"-358.595\" y2=\"313.065\" stroke-linecap=\"round\" style=\"stroke:blue;stroke-width:4\"/><line x1=\"-358.595\" y1=\"313.065\" x2=\"-347.376\" y2=\"326.435\" stroke-linecap=\"round\" style=\"stroke:blue;stroke-width:4\"/><line x1=\"-347.376\" y1=\"326.435\" x2=\"-335.035\" y2=\"338.776\" stroke-linecap=\"round\" style=\"stroke:blue;stroke-width:4\"/><line x1=\"-335.035\" y1=\"338.776\" x2=\"-321.665\" y2=\"349.995\" stroke-linecap=\"round\" style=\"stroke:blue;stroke-width:4\"/><line x1=\"-321.665\" y1=\"349.995\" x2=\"-307.368\" y2=\"360.006\" stroke-linecap=\"round\" style=\"stroke:blue;stroke-width:4\"/><line x1=\"-307.368\" y1=\"360.006\" x2=\"-292.253\" y2=\"368.733\" stroke-linecap=\"round\" style=\"stroke:blue;stroke-width:4\"/><line x1=\"-292.253\" y1=\"368.733\" x2=\"-276.435\" y2=\"376.109\" stroke-linecap=\"round\" style=\"stroke:blue;stroke-width:4\"/><line x1=\"-276.435\" y1=\"376.109\" x2=\"-260.034\" y2=\"382.078\" stroke-linecap=\"round\" style=\"stroke:blue;stroke-width:4\"/><line x1=\"-260.034\" y1=\"382.078\" x2=\"-243.175\" y2=\"386.595\" stroke-linecap=\"round\" style=\"stroke:blue;stroke-width:4\"/><line x1=\"-243.175\" y1=\"386.595\" x2=\"-225.987\" y2=\"389.626\" stroke-linecap=\"round\" style=\"stroke:blue;stroke-width:4\"/><line x1=\"-225.987\" y1=\"389.626\" x2=\"-208.6\" y2=\"391.147\" stroke-linecap=\"round\" style=\"stroke:blue;stroke-width:4\"/><line x1=\"-208.6\" y1=\"391.147\" x2=\"-191.147\" y2=\"391.147\" stroke-linecap=\"round\" style=\"stroke:blue;stroke-width:4\"/><line x1=\"-191.147\" y1=\"391.147\" x2=\"-173.76\" y2=\"389.626\" stroke-linecap=\"round\" style=\"stroke:blue;stroke-width:4\"/><line x1=\"-173.76\" y1=\"389.626\" x2=\"-156.572\" y2=\"386.595\" stroke-linecap=\"round\" style=\"stroke:blue;stroke-width:4\"/><line x1=\"-156.572\" y1=\"386.595\" x2=\"-139.713\" y2=\"382.078\" stroke-linecap=\"round\" style=\"stroke:blue;stroke-width:4\"/><line x1=\"-139.713\" y1=\"382.078\" x2=\"-123.312\" y2=\"376.109\" stroke-linecap=\"round\" style=\"stroke:blue;stroke-width:4\"/><line x1=\"-123.312\" y1=\"376.109\" x2=\"-107.494\" y2=\"368.733\" stroke-linecap=\"round\" style=\"stroke:blue;stroke-width:4\"/><line x1=\"-107.494\" y1=\"368.733\" x2=\"-92.379\" y2=\"360.006\" stroke-linecap=\"round\" style=\"stroke:blue;stroke-width:4\"/><line x1=\"-92.379\" y1=\"360.006\" x2=\"-78.082\" y2=\"349.995\" stroke-linecap=\"round\" style=\"stroke:blue;stroke-width:4\"/><line x1=\"-78.082\" y1=\"349.995\" x2=\"-64.712\" y2=\"338.776\" stroke-linecap=\"round\" style=\"stroke:blue;stroke-width:4\"/><line x1=\"-64.712\" y1=\"338.776\" x2=\"-52.371\" y2=\"326.435\" stroke-linecap=\"round\" style=\"stroke:blue;stroke-width:4\"/><line x1=\"-52.371\" y1=\"326.435\" x2=\"-41.152\" y2=\"313.065\" stroke-linecap=\"round\" style=\"stroke:blue;stroke-width:4\"/><line x1=\"-41.152\" y1=\"313.065\" x2=\"-31.141\" y2=\"298.768\" stroke-linecap=\"round\" style=\"stroke:blue;stroke-width:4\"/><line x1=\"-31.141\" y1=\"298.768\" x2=\"-22.414\" y2=\"283.653\" stroke-linecap=\"round\" style=\"stroke:blue;stroke-width:4\"/><line x1=\"-22.414\" y1=\"283.653\" x2=\"-15.038\" y2=\"267.835\" stroke-linecap=\"round\" style=\"stroke:blue;stroke-width:4\"/><line x1=\"-15.038\" y1=\"267.835\" x2=\"-9.069\" y2=\"251.434\" stroke-linecap=\"round\" style=\"stroke:blue;stroke-width:4\"/><line x1=\"-9.069\" y1=\"251.434\" x2=\"-4.552\" y2=\"234.575\" stroke-linecap=\"round\" style=\"stroke:blue;stroke-width:4\"/><line x1=\"-4.552\" y1=\"234.575\" x2=\"-1.521\" y2=\"217.387\" stroke-linecap=\"round\" style=\"stroke:blue;stroke-width:4\"/><line x1=\"-1.521\" y1=\"217.387\" x2=\"0.0\" y2=\"200.0\" stroke-linecap=\"round\" style=\"stroke:blue;stroke-width:4\"/>\n",
              "        <g visibility=visible transform=\"rotate(183.08760918729803,73.148,1358.07) translate(55.147999999999996, 1340.07)\">\n",
              "<path style=\" stroke:none;fill-rule:evenodd;fill:blue;fill-opacity:1;\" d=\"M 18.214844 0.632812 C 16.109375 1.800781 15.011719 4.074219 15.074219 7.132812 L 15.085938 7.652344 L 14.785156 7.496094 C 13.476562 6.824219 11.957031 6.671875 10.40625 7.066406 C 8.46875 7.550781 6.515625 9.15625 4.394531 11.992188 C 3.0625 13.777344 2.679688 14.636719 3.042969 15.027344 L 3.15625 15.152344 L 3.519531 15.152344 C 4.238281 15.152344 4.828125 14.886719 8.1875 13.039062 C 9.386719 12.378906 10.371094 11.839844 10.378906 11.839844 C 10.386719 11.839844 10.355469 11.929688 10.304688 12.035156 C 9.832031 13.09375 9.257812 14.820312 8.96875 16.078125 C 7.914062 20.652344 8.617188 24.53125 11.070312 27.660156 C 11.351562 28.015625 11.363281 27.914062 10.972656 28.382812 C 8.925781 30.84375 7.945312 33.28125 8.238281 35.1875 C 8.289062 35.527344 8.28125 35.523438 8.917969 35.523438 C 10.941406 35.523438 13.074219 34.207031 15.136719 31.6875 C 15.359375 31.417969 15.328125 31.425781 15.5625 31.574219 C 16.292969 32.042969 18.023438 32.964844 18.175781 32.964844 C 18.335938 32.964844 19.941406 32.210938 20.828125 31.71875 C 20.996094 31.625 21.136719 31.554688 21.136719 31.558594 C 21.203125 31.664062 21.898438 32.414062 22.222656 32.730469 C 23.835938 34.300781 25.5625 35.132812 27.582031 35.300781 C 27.90625 35.328125 27.9375 35.308594 28.007812 34.984375 C 28.382812 33.242188 27.625 30.925781 25.863281 28.425781 L 25.542969 27.96875 L 25.699219 27.785156 C 28.945312 23.960938 29.132812 18.699219 26.257812 11.96875 L 26.207031 11.84375 L 27.945312 12.703125 C 31.53125 14.476562 32.316406 14.800781 33.03125 14.800781 C 33.976562 14.800781 33.78125 13.9375 32.472656 12.292969 C 28.519531 7.355469 25.394531 5.925781 21.921875 7.472656 L 21.558594 7.636719 L 21.578125 7.542969 C 21.699219 6.992188 21.761719 5.742188 21.699219 5.164062 C 21.496094 3.296875 20.664062 1.964844 19.003906 0.855469 C 18.480469 0.503906 18.457031 0.5 18.214844 0.632812\"/>\n",
              "</g>\n",
              "      </svg>\n",
              "    "
            ]
          },
          "metadata": {}
        }
      ]
    }
  ]
}